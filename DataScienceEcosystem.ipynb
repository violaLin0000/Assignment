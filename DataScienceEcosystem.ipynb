{
 "cells": [
  {
   "cell_type": "markdown",
   "id": "369fee78-5d0b-4272-8c89-baebb4b69f46",
   "metadata": {},
   "source": [
    "# Data Science Tools and Ecosystem"
   ]
  },
  {
   "cell_type": "markdown",
   "id": "9967fc4c-5488-425d-a1f9-cea976fe80b6",
   "metadata": {},
   "source": [
    "*In this notebook, Data Science Tools and Eco system are summarized*"
   ]
  },
  {
   "cell_type": "markdown",
   "id": "e5dbf31e-bcaa-4ad0-86a1-52d235e99c74",
   "metadata": {},
   "source": [
    "Some of popular languages that Data Scientist uses are:\n",
    "1. Python\n",
    "2. R\n",
    "3. SQL"
   ]
  },
  {
   "cell_type": "markdown",
   "id": "ece8075d-0f5b-49c7-b7ce-746c7401652b",
   "metadata": {},
   "source": [
    "Some of the commonly used libraries used by Data Scientists includes:\n",
    "1. NumPy\n",
    "2. Pandas\n",
    "3. Scipy"
   ]
  },
  {
   "cell_type": "markdown",
   "id": "3170c1fd-b2f2-4201-ad29-425472ceca99",
   "metadata": {},
   "source": [
    "|Data Science Tools|\n",
    "|---               |\n",
    "|Weka|\n",
    "|MySQL|\n",
    "|Fiddler|"
   ]
  },
  {
   "cell_type": "markdown",
   "id": "54cba6bb-bed7-4f17-9dd8-723d22ef0cab",
   "metadata": {},
   "source": [
    "### Below are a few examples of evaluating arithmetic expressions in Python\n",
    "- 1*1\n",
    "- 1+1\n",
    "- 2/2"
   ]
  },
  {
   "cell_type": "markdown",
   "id": "fa279320-ea08-4ab5-8ec5-88c6537e100d",
   "metadata": {},
   "source": [
    "This is a simple arithmetic expression to multiply then add integer\n",
    "\n",
    "(3*4)+5"
   ]
  },
  {
   "cell_type": "code",
   "execution_count": 1,
   "id": "e0a310c0-f457-4e15-989c-14d636e1c8bc",
   "metadata": {},
   "outputs": [
    {
     "name": "stdout",
     "output_type": "stream",
     "text": [
      "This is a simple arithmetic expression to multiply then add integer (3*4)+5\n"
     ]
    },
    {
     "data": {
      "text/plain": [
       "17"
      ]
     },
     "execution_count": 1,
     "metadata": {},
     "output_type": "execute_result"
    }
   ],
   "source": [
    "print (\"This is a simple arithmetic expression to multiply then add integer\",\"(3*4)+5\")\n",
    "(3*4)+5"
   ]
  },
  {
   "cell_type": "code",
   "execution_count": 5,
   "id": "80efcfe8-eec8-4c92-a093-67c146ed8bd2",
   "metadata": {
    "scrolled": true
   },
   "outputs": [
    {
     "name": "stdout",
     "output_type": "stream",
     "text": [
      "This will convert 200 minutes to hours by dividing by 60\n",
      "200 minutes = 3.3333333333333335 hours\n"
     ]
    }
   ],
   "source": [
    "print(\"This will convert 200 minutes to hours by dividing by 60\")\n",
    "h=200/60\n",
    "print(\"200 minutes =\",h,\"hours\")"
   ]
  },
  {
   "cell_type": "markdown",
   "id": "4c0a2ae6-3189-42a3-933e-df11bc5a6e25",
   "metadata": {},
   "source": [
    "# In this notebook, Data Science Tools and Ecosystems are summarized.\n",
    "**Objectives**\n",
    "- The polupar languages that Data Scientists use\n",
    "- The commonly used libraries that Data Scientists use\n",
    "- The data Science tools that Data scientists use\n"
   ]
  },
  {
   "cell_type": "markdown",
   "id": "acf431dd-7a42-41b1-be08-16e42949c25c",
   "metadata": {},
   "source": [
    "## Auther\n",
    "Viola Lin"
   ]
  },
  {
   "cell_type": "code",
   "execution_count": null,
   "id": "74547ec0-f078-4e55-a841-098f8300a37b",
   "metadata": {},
   "outputs": [],
   "source": []
  }
 ],
 "metadata": {
  "kernelspec": {
   "display_name": "Python 3 (ipykernel)",
   "language": "python",
   "name": "python3"
  },
  "language_info": {
   "codemirror_mode": {
    "name": "ipython",
    "version": 3
   },
   "file_extension": ".py",
   "mimetype": "text/x-python",
   "name": "python",
   "nbconvert_exporter": "python",
   "pygments_lexer": "ipython3",
   "version": "3.11.7"
  }
 },
 "nbformat": 4,
 "nbformat_minor": 5
}
